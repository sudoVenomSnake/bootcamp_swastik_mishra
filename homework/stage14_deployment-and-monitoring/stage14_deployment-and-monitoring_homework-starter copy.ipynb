{
 "cells": [
  {
   "cell_type": "markdown",
   "metadata": {},
   "source": [
    "# Homework Starter — Stage 14: Deployment & Monitoring\n",
    "\n",
    "Use this template to draft your reflection and (optionally) sketch a dashboard."
   ]
  },
  {
   "cell_type": "markdown",
   "metadata": {},
   "source": [
    "## Reflection\n",
    "\n",
    "\n",
    "### Risks if deployed:\n",
    "- Project uses a naive modeling approach; results may be unreliable or even misleading.\n",
    "- Overfitting, regime changes, and Yahoo Finance data quality issues can degrade performance.\n",
    "\n",
    "\n",
    "### Monitoring metrics across layers (Data/Model/System/Business):\n",
    "- Data: freshness, missing values, sudden shifts in distributions.\n",
    "- Model: prediction error (MAE/R²), difference between train and actual live features.\n",
    "- System: API uptime, Flask app latency, failed jobs.\n",
    "- Business: user engagement, whether predictions add to decision-making.\n",
    "\n",
    "### Ownership & handoffs:\n",
    "- Data pipeline - Data engineering.\n",
    "- Feature & model notebooks - Data science.\n",
    "- App & deployment - ML/infra engineering.\n",
    "- Business interpretation & usage - Product/analytics team."
   ]
  }
 ],
 "metadata": {
  "kernelspec": {
   "display_name": "Python 3",
   "language": "python",
   "name": "python3"
  },
  "language_info": {
   "name": "python",
   "version": ""
  }
 },
 "nbformat": 4,
 "nbformat_minor": 5
}
