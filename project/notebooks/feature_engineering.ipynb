{
 "cells": [
  {
   "cell_type": "markdown",
   "id": "362963ba",
   "metadata": {},
   "source": [
    "# Feature Engineering"
   ]
  },
  {
   "cell_type": "markdown",
   "id": "739970b7",
   "metadata": {},
   "source": [
    "Engineer technical features and save to `data/preprocessed/`."
   ]
  },
  {
   "cell_type": "code",
   "execution_count": 1,
   "id": "317bc709",
   "metadata": {},
   "outputs": [],
   "source": [
    "import os\n",
    "import pandas as pd\n",
    "import numpy as np"
   ]
  },
  {
   "cell_type": "code",
   "execution_count": 11,
   "id": "c92fc71b",
   "metadata": {},
   "outputs": [],
   "source": [
    "def rsi(series, period = 14):\n",
    "    delta = series.diff()\n",
    "    gain = (delta.clip(lower = 0)).ewm(alpha = 1 / period, adjust = False).mean()\n",
    "    loss = (-delta.clip(upper=0)).ewm(alpha = 1 / period, adjust = False).mean()\n",
    "    rs = gain / (loss.replace(0, np.nan))\n",
    "    return 100 - (100 / (1 + rs))\n",
    "\n",
    "def compute_features(df):\n",
    "    \"\"\"\n",
    "    Expect columns: ['Open', 'High', 'Low', 'Close', 'Adj Close', 'Volume']\n",
    "    Returns a DataFrame with engineered features and the target 'y_next_ret'.\n",
    "    \"\"\"\n",
    "    out = df.copy()\n",
    "    out[\"ret_1d\"] = out[\"Close\"].astype(float).pct_change()\n",
    "    out[\"ret_5d\"] = out[\"Close\"].astype(float).pct_change(5)\n",
    "    out[\"ma_5\"] = out[\"Close\"].astype(float).rolling(5).mean()\n",
    "    out[\"ma_10\"] = out[\"Close\"].astype(float).rolling(10).mean()\n",
    "    out[\"ema_10\"] = out[\"Close\"].astype(float).ewm(span = 10, adjust = False).mean()\n",
    "    out[\"vol_5d\"] = out[\"ret_1d\"].astype(float).rolling(5).std()\n",
    "    out[\"rsi_14\"] = rsi(out[\"Close\"].astype(float), 14)\n",
    "    out[\"y_next_ret\"] = out[\"Close\"].astype(float).pct_change().shift(-1)\n",
    "    out = out.dropna()\n",
    "    feature_cols = [\"ret_1d\", \"ret_5d\", \"ma_5\", \"ma_10\", \"ema_10\", \"vol_5d\", \"rsi_14\"]\n",
    "    return out, feature_cols"
   ]
  },
  {
   "cell_type": "code",
   "execution_count": 14,
   "id": "b0a07b1a",
   "metadata": {},
   "outputs": [
    {
     "name": "stdout",
     "output_type": "stream",
     "text": [
      "Saved -> ../data/processed/MSFT_features.csv (features: ['ret_1d', 'ret_5d', 'ma_5', 'ma_10', 'ema_10', 'vol_5d', 'rsi_14'] )\n",
      "Saved -> ../data/processed/SPY_features.csv (features: ['ret_1d', 'ret_5d', 'ma_5', 'ma_10', 'ema_10', 'vol_5d', 'rsi_14'] )\n",
      "Saved -> ../data/processed/AAPL_features.csv (features: ['ret_1d', 'ret_5d', 'ma_5', 'ma_10', 'ema_10', 'vol_5d', 'rsi_14'] )\n"
     ]
    }
   ],
   "source": [
    "for csv in os.listdir(\"../data/raw/\"):\n",
    "    df = pd.read_csv(\"../data/raw/\" + csv)\n",
    "    df = df[2:]\n",
    "    df.columns = [\"Date\", \"Close\", \"High\", \"Low\", \"Open\", \"Volume\"]\n",
    "    feats, feature_cols = compute_features(df)\n",
    "    out = f\"../data/processed/{csv.replace(\".csv\", \"\")}_features.csv\"\n",
    "    feats.to_csv(out)\n",
    "    print(\"Saved ->\", out, \"(features:\", feature_cols, \")\")\n"
   ]
  }
 ],
 "metadata": {
  "kernelspec": {
   "display_name": ".venv (3.13.4)",
   "language": "python",
   "name": "python3"
  },
  "language_info": {
   "codemirror_mode": {
    "name": "ipython",
    "version": 3
   },
   "file_extension": ".py",
   "mimetype": "text/x-python",
   "name": "python",
   "nbconvert_exporter": "python",
   "pygments_lexer": "ipython3",
   "version": "3.13.4"
  }
 },
 "nbformat": 4,
 "nbformat_minor": 5
}
